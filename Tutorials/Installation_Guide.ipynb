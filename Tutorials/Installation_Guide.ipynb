{
 "cells": [
  {
   "cell_type": "markdown",
   "metadata": {},
   "source": [
    "\n",
    "## Installing Dependencies\n",
    "\n",
    "This workflow uses python dependencies that do not come installed in Metashape's python environment. This short tutorial will explain the process for installing the dependencies needed to run the wokflow in Metashape's python environment."
   ]
  },
  {
   "cell_type": "markdown",
   "metadata": {},
   "source": [
    "The normal process for installing python dependencies to Metashape's python environment can be found [here](https://agisoft.freshdesk.com/support/solutions/articles/31000136860-how-to-install-external-python-module-to-photoscan-professional-pacakge). Metashape's python environment is typically located at the following path:\n",
    "\n",
    "`\"%programfiles%\\Agisoft\\Metashape Pro\\python\\python.exe\"`\n",
    "\n",
    "Where `programfiles` represents the `Program Files` folder located in the `C:` drive."
   ]
  },
  {
   "cell_type": "markdown",
   "metadata": {},
   "source": [
    "To install the necessary dependencies (and any others you desire), it's recommend to use the `setup.py` script, which will install all of the dependencies in the `requirements.txt` file using `pip`. To do this, simply open a command terminal and run the `setup.py` script with python:\n",
    "\n",
    "```\n",
    "python setup.py\n",
    "```\n",
    "\n",
    "This will kick off a subprocess and install each of the dependencies.\n"
   ]
  },
  {
   "cell_type": "code",
   "execution_count": null,
   "metadata": {},
   "outputs": [],
   "source": []
  }
 ],
 "metadata": {
  "kernelspec": {
   "display_name": "Python 3 (ipykernel)",
   "language": "python",
   "name": "python3"
  },
  "language_info": {
   "codemirror_mode": {
    "name": "ipython",
    "version": 3
   },
   "file_extension": ".py",
   "mimetype": "text/x-python",
   "name": "python",
   "nbconvert_exporter": "python",
   "pygments_lexer": "ipython3",
   "version": "3.8.16"
  }
 },
 "nbformat": 4,
 "nbformat_minor": 1
}
